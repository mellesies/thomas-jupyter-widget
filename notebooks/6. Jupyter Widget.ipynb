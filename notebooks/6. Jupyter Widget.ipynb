{
 "cells": [
  {
   "cell_type": "markdown",
   "metadata": {},
   "source": [
    "### Testing & developing ..."
   ]
  },
  {
   "cell_type": "code",
   "execution_count": 1,
   "metadata": {},
   "outputs": [],
   "source": [
    "import time\n",
    "\n",
    "import thomas.core\n",
    "from thomas.core import get_pkg_data\n",
    "from thomas.core import BayesianNetwork, examples\n",
    "from thomas.jupyter import BayesianNetworkWidget"
   ]
  },
  {
   "cell_type": "code",
   "execution_count": 2,
   "metadata": {},
   "outputs": [],
   "source": [
    "Gs = examples.get_student_network()"
   ]
  },
  {
   "cell_type": "code",
   "execution_count": 3,
   "metadata": {},
   "outputs": [
    {
     "data": {
      "application/vnd.jupyter.widget-view+json": {
       "model_id": "e735975fa57c487c8e431c82aa23f708",
       "version_major": 2,
       "version_minor": 0
      },
      "text/plain": [
       "BayesianNetworkWidget(marginals_and_evidence={'marginals': {'I': {'i0': 0.7, 'i1': 0.3}, 'S': {'s0': 0.725, 's…"
      ]
     },
     "metadata": {},
     "output_type": "display_data"
    }
   ],
   "source": [
    "view = BayesianNetworkWidget(Gs)\n",
    "view"
   ]
  },
  {
   "cell_type": "code",
   "execution_count": 4,
   "metadata": {},
   "outputs": [],
   "source": [
    "Gs.set_evidence_hard('I', 'i1')"
   ]
  },
  {
   "cell_type": "code",
   "execution_count": 5,
   "metadata": {},
   "outputs": [],
   "source": [
    "Gs.set_evidence_hard('D', 'd1')"
   ]
  },
  {
   "cell_type": "code",
   "execution_count": 6,
   "metadata": {},
   "outputs": [],
   "source": [
    "Gs.reset_evidence()"
   ]
  }
 ],
 "metadata": {
  "kernelspec": {
   "display_name": "thomas",
   "language": "python",
   "name": "thomas"
  },
  "language_info": {
   "codemirror_mode": {
    "name": "ipython",
    "version": 3
   },
   "file_extension": ".py",
   "mimetype": "text/x-python",
   "name": "python",
   "nbconvert_exporter": "python",
   "pygments_lexer": "ipython3",
   "version": "3.6.9"
  }
 },
 "nbformat": 4,
 "nbformat_minor": 4
}
